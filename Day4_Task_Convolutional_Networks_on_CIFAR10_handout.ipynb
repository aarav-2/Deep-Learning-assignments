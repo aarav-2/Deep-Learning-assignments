{
  "cells": [
    {
      "cell_type": "markdown",
      "metadata": {
        "id": "view-in-github",
        "colab_type": "text"
      },
      "source": [
        "<a href=\"https://colab.research.google.com/github/aarav-2/Deep-Learning-assignments/blob/main/Day4_Task_Convolutional_Networks_on_CIFAR10_handout.ipynb\" target=\"_parent\"><img src=\"https://colab.research.google.com/assets/colab-badge.svg\" alt=\"Open In Colab\"/></a>"
      ]
    },
    {
      "cell_type": "markdown",
      "metadata": {
        "id": "eSHhdguTHm0N"
      },
      "source": [
        "# Task: CIFAR-10 classification\n",
        "\n",
        "The [CIFAR-10 dataset](https://www.cs.toronto.edu/~kriz/cifar.html)\n",
        "\n",
        "> \"consists of 60000 32x32 colour images in 10 classes, with 6000 images per class. There are 50000 training images and 10000 test images.\n",
        "\n",
        ">The dataset is divided into five training batches and one test batch, each with 10000 images. The test batch contains exactly 1000 randomly-selected images from each class. The training batches contain the remaining images in random order, but some training batches may contain more images from one class than another. Between them, the training batches contain exactly 5000 images from each class.\"\n",
        "\n",
        "<img src=\"http://drive.google.com/uc?export=view&id=1wlfkvZgS0oBDwxKicWmYgtsJmP3IcMdj\">\n",
        "\n",
        "### Categories:\n",
        "\n",
        "- airplane\n",
        "- automobile\n",
        "- bird\n",
        "- cat\n",
        "- deer\n",
        "- dog\n",
        "- frog\n",
        "- horse\n",
        "- ship\n",
        "- truck"
      ]
    },
    {
      "cell_type": "markdown",
      "metadata": {
        "id": "TIX2ehpiHm0S"
      },
      "source": [
        "# Preliminaries"
      ]
    },
    {
      "cell_type": "code",
      "execution_count": 1,
      "metadata": {
        "ExecuteTime": {
          "end_time": "2019-05-01T08:39:01.205778Z",
          "start_time": "2019-05-01T08:39:00.058811Z"
        },
        "collapsed": true,
        "id": "sTT_MyHltNm4"
      },
      "outputs": [],
      "source": [
        "import numpy as np\n",
        "import os\n",
        "\n",
        "import tensorflow as tf\n",
        "from tensorflow.keras.layers import Input, Dense, Dropout, Conv2D, MaxPool2D, Flatten\n",
        "from tensorflow.keras.models import Model\n",
        "from tensorflow.keras.optimizers import Adadelta, Adam, SGD\n",
        "from tensorflow.keras.losses import sparse_categorical_crossentropy\n",
        "from tensorflow.keras.regularizers import l1\n",
        "from tensorflow.keras.backend import clear_session\n",
        "from tensorflow.keras.callbacks import TensorBoard\n",
        "from tensorflow.keras.initializers import glorot_normal\n",
        "# from tensorboardcolab import TensorBoardColab\n",
        "\n",
        "# Fix seeds for (hopefully) reproducible results\n",
        "from numpy.random import seed\n",
        "seed(14)\n",
        "tf.random.set_seed(19)"
      ]
    },
    {
      "cell_type": "markdown",
      "metadata": {
        "id": "7d9_yHMEtNnG"
      },
      "source": [
        "Download the data if necessary and load it:"
      ]
    },
    {
      "cell_type": "code",
      "execution_count": 2,
      "metadata": {
        "ExecuteTime": {
          "end_time": "2019-05-01T08:39:36.264800Z",
          "start_time": "2019-05-01T08:39:01.207234Z"
        },
        "colab": {
          "base_uri": "https://localhost:8080/"
        },
        "collapsed": true,
        "id": "jFmPQL0xM_4p",
        "outputId": "d3c229be-968b-432b-ec09-707bc9bd7936"
      },
      "outputs": [
        {
          "output_type": "stream",
          "name": "stdout",
          "text": [
            "Downloading data from https://www.cs.toronto.edu/~kriz/cifar-10-python.tar.gz\n",
            "170498071/170498071 [==============================] - 19s 0us/step\n",
            "(50000, 32, 32, 3) (5000, 32, 32, 3) (5000, 32, 32, 3)\n",
            "(50000, 1) (5000, 1) (5000, 1)\n"
          ]
        }
      ],
      "source": [
        "train, test = tf.keras.datasets.cifar10.load_data()\n",
        "\n",
        "train_images, train_labels = train\n",
        "\n",
        "valid_test_images, valid_test_labels = test\n",
        "\n",
        "train_images = train_images / 255.\n",
        "\n",
        "valid_test_images = valid_test_images / 255.\n",
        "\n",
        "valid_images = valid_test_images[:5000]\n",
        "valid_labels = valid_test_labels[:5000]\n",
        "test_images = valid_test_images[5000:]\n",
        "test_labels = valid_test_labels[5000:]\n",
        "\n",
        "print(train_images.shape, valid_images.shape, test_images.shape)\n",
        "print(train_labels.shape, valid_labels.shape, test_labels.shape)"
      ]
    },
    {
      "cell_type": "markdown",
      "metadata": {
        "id": "QxyeFqibHm05"
      },
      "source": [
        "# Model\n",
        "\n",
        "## Parameters"
      ]
    },
    {
      "cell_type": "code",
      "execution_count": 3,
      "metadata": {
        "ExecuteTime": {
          "end_time": "2019-05-01T08:39:36.268218Z",
          "start_time": "2019-05-01T08:39:36.266265Z"
        },
        "collapsed": true,
        "id": "S075_4a6tNna"
      },
      "outputs": [],
      "source": [
        "n_classes = 10"
      ]
    },
    {
      "cell_type": "code",
      "execution_count": 4,
      "metadata": {
        "ExecuteTime": {
          "end_time": "2019-05-01T08:39:36.277888Z",
          "start_time": "2019-05-01T08:39:36.269933Z"
        },
        "collapsed": true,
        "id": "_LIu1RooALUz"
      },
      "outputs": [],
      "source": [
        "# TASK - Hyperparameters\n",
        "# Fill in the initial values!\n",
        "# Later, experiment!\n",
        "#############################\n",
        "\n",
        "\n",
        "# dropout - Something between 0.0 < dropout_rate < 1.0, think in \"tens of percentages\" as default\n",
        "# dropout rate for conv layers\n",
        "dropout_rate_1 = 0.1\n",
        "# dropout rate for fully connected layers\n",
        "dropout_rate_2 = 0.4\n",
        "\n",
        "# Choose an appropriate batch size for the training!\n",
        "batch_size = 128\n",
        "\n",
        "# Choose an appropriate number of epochs\n",
        "epoch_count = 50\n",
        "\n",
        "# These are the default parameters, you can experiment with learning rates, schedules, ..."
      ]
    },
    {
      "cell_type": "markdown",
      "metadata": {
        "id": "ACdo3SEitNnl"
      },
      "source": [
        "## Network"
      ]
    },
    {
      "cell_type": "code",
      "execution_count": 5,
      "metadata": {
        "ExecuteTime": {
          "end_time": "2019-05-01T08:39:36.404889Z",
          "start_time": "2019-05-01T08:39:36.282271Z"
        },
        "colab": {
          "base_uri": "https://localhost:8080/"
        },
        "collapsed": true,
        "id": "o8OgyCFaHm1H",
        "outputId": "b38589f6-0e4c-4324-8fbc-d295e8f2a4ed"
      },
      "outputs": [
        {
          "output_type": "stream",
          "name": "stdout",
          "text": [
            "Model: \"model\"\n",
            "_________________________________________________________________\n",
            " Layer (type)                Output Shape              Param #   \n",
            "=================================================================\n",
            " input_1 (InputLayer)        [(None, 32, 32, 3)]       0         \n",
            "                                                                 \n",
            " conv2d (Conv2D)             (None, 32, 32, 64)        4864      \n",
            "                                                                 \n",
            " max_pooling2d (MaxPooling2  (None, 16, 16, 64)        0         \n",
            " D)                                                              \n",
            "                                                                 \n",
            " dropout (Dropout)           (None, 16, 16, 64)        0         \n",
            "                                                                 \n",
            " conv2d_1 (Conv2D)           (None, 16, 16, 64)        102464    \n",
            "                                                                 \n",
            " max_pooling2d_1 (MaxPoolin  (None, 8, 8, 64)          0         \n",
            " g2D)                                                            \n",
            "                                                                 \n",
            " dropout_1 (Dropout)         (None, 8, 8, 64)          0         \n",
            "                                                                 \n",
            " flatten (Flatten)           (None, 4096)              0         \n",
            "                                                                 \n",
            " dense (Dense)               (None, 512)               2097664   \n",
            "                                                                 \n",
            " dropout_2 (Dropout)         (None, 512)               0         \n",
            "                                                                 \n",
            " dense_1 (Dense)             (None, 256)               131328    \n",
            "                                                                 \n",
            " dropout_3 (Dropout)         (None, 256)               0         \n",
            "                                                                 \n",
            " dense_2 (Dense)             (None, 10)                2570      \n",
            "                                                                 \n",
            "=================================================================\n",
            "Total params: 2338890 (8.92 MB)\n",
            "Trainable params: 2338890 (8.92 MB)\n",
            "Non-trainable params: 0 (0.00 Byte)\n",
            "_________________________________________________________________\n"
          ]
        }
      ],
      "source": [
        "# adapted from https://github.com/jtopor/CUNY-MSDA-661/blob/master/CIFAR-CNN/TF-Layers-CIFAR-GITHUB-v3.py\n",
        "\n",
        "\n",
        "tf.compat.v1.reset_default_graph() # It's good practice to clean and reset everything\n",
        "clear_session()          # even using Keras\n",
        "\n",
        "\n",
        "# WE USE FUNCTIONAL API!\n",
        "# (Could be different, but not now...)\n",
        "\n",
        "\n",
        "\n",
        "# Model\n",
        "#######\n",
        "\n",
        "# Define the input!\n",
        "# Remember, we have pictures with 32x32 pixels and 3 color channels\n",
        "# Disregard batch size, Keras will do that for us.\n",
        "x = Input(shape=(32, 32, 3))\n",
        "\n",
        "# Convolutional Layer #1: (batch_size, 32, 32, 3) -> (batch_size, 32, 32, 64)\n",
        "# Define a \"normal\" convolutional layer for images (not a single sequence, so ?D)\n",
        "# There should be 64 convolutional units\n",
        "# The kernel should be 5 in width and heigth\n",
        "# There should be padding so that the input and output dimensions would be\n",
        "# equivalent The non-linearity should be ReLU\n",
        "conv1 = tf.keras.layers.Conv2D(64, 5, padding='same', activation=tf.nn.relu)(x)\n",
        "\n",
        "# Pooling Layer #1: (batch_size, 32, 32, 64) -> (batch_size, 16, 16, 64)\n",
        "# Define a maximum based pooling layer with appropriate dimensions\n",
        "# The pooling size should be 2,2 and stride 2\n",
        "pool1 = tf.keras.layers.MaxPooling2D(pool_size=(2, 2), strides=2)(conv1)\n",
        "\n",
        "# Define a dropout layer with using the first dropout rate parameter\n",
        "dropout1 = tf.keras.layers.Dropout(dropout_rate_1)(pool1)\n",
        "\n",
        "# Convolutional Layer #2: (batch_size, 16, 16, 64) -> (batch_size, 16, 16, 64)\n",
        "# Repeat the prior conv layer\n",
        "# Watch for the right input\n",
        "conv2 = tf.keras.layers.Conv2D(64, 5, padding='same', activation=tf.nn.relu)(dropout1)\n",
        "\n",
        "# Pooling Layer #2: (batch_size, 16, 16, 64) -> (batch_size, 8, 8, 64)\n",
        "# Repeat the prior pooling layer\n",
        "# Watch for the right input\n",
        "pool2 = tf.keras.layers.MaxPooling2D(pool_size=(2, 2), strides=2)(conv2)\n",
        "\n",
        "# Define a dropout layer with using the FIRST dropout rate parameter\n",
        "dropout2 = tf.keras.layers.Dropout(dropout_rate_1)(pool2)\n",
        "\n",
        "# Convert tensors into vectors: (batch_size, 8, 8, 64) -> (batch_size, 4096)\n",
        "# Use a single KERAS function, NO numpy or reshape magic!\n",
        "# Hint: the result is not 2D but \"flat\"\n",
        "pool2_flat = tf.keras.layers.Flatten()(dropout2)\n",
        "\n",
        "# Fully connected Layer #1: (batch_size, 4096)-> (batch_size, 512)\n",
        "# Define a fully connected layer with 512 nodes and ReLU\n",
        "dense1 = tf.keras.layers.Dense(512, activation=tf.nn.relu)(pool2_flat)\n",
        "\n",
        "# Define a dropout layer with using the SECOND dropout rate parameter\n",
        "dropout3 = tf.keras.layers.Dropout(dropout_rate_2)(dense1)\n",
        "\n",
        "# Dense Layer #1: (batch_size, 512)-> (batch_size, 256)\n",
        "# Define a fully connected layer with 256 nodes and ReLU\n",
        "dense2 = tf.keras.layers.Dense(256, activation=tf.nn.relu)(dropout3)\n",
        "\n",
        "# Define a dropout layer with using the SECOND dropout rate parameter\n",
        "dropout4 = tf.keras.layers.Dropout(dropout_rate_2)(dense2)\n",
        "\n",
        "# Logits layer: (batch_size, 256) -> (batch_size, 10)\n",
        "# Define a fully connected layer with ??? nodes\n",
        "# Think about it, what shape should the output be?\n",
        "# What activation?\n",
        "# Think about it: we are in a classification problem!\n",
        "predictions = tf.keras.layers.Dense(n_classes, activation='softmax')(dropout4)\n",
        "\n",
        "# Full model\n",
        "# Instantiate (initialize) the model with inputs and outputs\n",
        "model = tf.keras.Model(inputs=x, outputs=predictions)\n",
        "\n",
        "model.summary()\n"
      ]
    },
    {
      "cell_type": "markdown",
      "metadata": {
        "id": "LGKQ-8bmtNn1"
      },
      "source": [
        "## Loss, optimization and compilation"
      ]
    },
    {
      "cell_type": "code",
      "execution_count": 6,
      "metadata": {
        "ExecuteTime": {
          "end_time": "2019-05-01T08:39:36.473837Z",
          "start_time": "2019-05-01T08:39:36.407595Z"
        },
        "collapsed": true,
        "id": "j1UmvSzLHm1R"
      },
      "outputs": [],
      "source": [
        "# Loss\n",
        "\n",
        "loss = sparse_categorical_crossentropy # we use this cross entropy variant as the input is not\n",
        "                                       # one-hot encoded\n",
        "\n",
        "# Optimizer\n",
        "# Choose an optimizer - adaptive ones work well here\n",
        "optimizer = 'adam'\n",
        "\n",
        "# Compilation\n",
        "#############\n",
        "\n",
        "model.compile(optimizer=optimizer, loss=loss, metrics=['accuracy'])"
      ]
    },
    {
      "cell_type": "markdown",
      "metadata": {
        "id": "gkPe16fDtNoJ"
      },
      "source": [
        "## Training"
      ]
    },
    {
      "cell_type": "code",
      "execution_count": 7,
      "metadata": {
        "ExecuteTime": {
          "end_time": "2019-05-01T08:51:59.029061Z",
          "start_time": "2019-05-01T08:39:36.475186Z"
        },
        "colab": {
          "base_uri": "https://localhost:8080/"
        },
        "collapsed": true,
        "id": "zZ1d14lFtNoM",
        "outputId": "f9d4d053-b61d-42c4-cb46-d67b7e2365dd"
      },
      "outputs": [
        {
          "output_type": "stream",
          "name": "stdout",
          "text": [
            "Epoch 1/50\n",
            "391/391 [==============================] - 12s 14ms/step - loss: 1.6739 - accuracy: 0.3852 - val_loss: 1.3236 - val_accuracy: 0.5254\n",
            "Epoch 2/50\n",
            "391/391 [==============================] - 5s 12ms/step - loss: 1.2846 - accuracy: 0.5412 - val_loss: 1.0955 - val_accuracy: 0.6196\n",
            "Epoch 3/50\n",
            "391/391 [==============================] - 5s 13ms/step - loss: 1.1087 - accuracy: 0.6086 - val_loss: 1.0309 - val_accuracy: 0.6486\n",
            "Epoch 4/50\n",
            "391/391 [==============================] - 5s 12ms/step - loss: 0.9930 - accuracy: 0.6503 - val_loss: 0.9404 - val_accuracy: 0.6694\n",
            "Epoch 5/50\n",
            "391/391 [==============================] - 5s 12ms/step - loss: 0.9025 - accuracy: 0.6836 - val_loss: 0.8867 - val_accuracy: 0.6906\n",
            "Epoch 6/50\n",
            "391/391 [==============================] - 5s 12ms/step - loss: 0.8282 - accuracy: 0.7095 - val_loss: 0.8603 - val_accuracy: 0.7042\n",
            "Epoch 7/50\n",
            "391/391 [==============================] - 5s 12ms/step - loss: 0.7664 - accuracy: 0.7303 - val_loss: 0.8550 - val_accuracy: 0.7114\n",
            "Epoch 8/50\n",
            "391/391 [==============================] - 5s 13ms/step - loss: 0.7106 - accuracy: 0.7521 - val_loss: 0.8179 - val_accuracy: 0.7178\n",
            "Epoch 9/50\n",
            "391/391 [==============================] - 5s 12ms/step - loss: 0.6591 - accuracy: 0.7683 - val_loss: 0.7959 - val_accuracy: 0.7244\n",
            "Epoch 10/50\n",
            "391/391 [==============================] - 5s 12ms/step - loss: 0.6209 - accuracy: 0.7824 - val_loss: 0.7943 - val_accuracy: 0.7296\n",
            "Epoch 11/50\n",
            "391/391 [==============================] - 6s 16ms/step - loss: 0.5726 - accuracy: 0.7976 - val_loss: 0.8178 - val_accuracy: 0.7306\n",
            "Epoch 12/50\n",
            "391/391 [==============================] - 6s 16ms/step - loss: 0.5389 - accuracy: 0.8103 - val_loss: 0.8151 - val_accuracy: 0.7270\n",
            "Epoch 13/50\n",
            "391/391 [==============================] - 5s 13ms/step - loss: 0.5118 - accuracy: 0.8205 - val_loss: 0.8323 - val_accuracy: 0.7292\n",
            "Epoch 14/50\n",
            "391/391 [==============================] - 5s 12ms/step - loss: 0.4767 - accuracy: 0.8309 - val_loss: 0.8410 - val_accuracy: 0.7360\n",
            "Epoch 15/50\n",
            "391/391 [==============================] - 5s 12ms/step - loss: 0.4513 - accuracy: 0.8406 - val_loss: 0.8898 - val_accuracy: 0.7206\n",
            "Epoch 16/50\n",
            "391/391 [==============================] - 5s 13ms/step - loss: 0.4315 - accuracy: 0.8478 - val_loss: 0.8563 - val_accuracy: 0.7358\n",
            "Epoch 17/50\n",
            "391/391 [==============================] - 5s 12ms/step - loss: 0.4064 - accuracy: 0.8566 - val_loss: 0.8710 - val_accuracy: 0.7352\n",
            "Epoch 18/50\n",
            "391/391 [==============================] - 5s 12ms/step - loss: 0.3897 - accuracy: 0.8636 - val_loss: 0.8603 - val_accuracy: 0.7416\n",
            "Epoch 19/50\n",
            "391/391 [==============================] - 5s 12ms/step - loss: 0.3693 - accuracy: 0.8711 - val_loss: 0.8811 - val_accuracy: 0.7384\n",
            "Epoch 20/50\n",
            "391/391 [==============================] - 5s 12ms/step - loss: 0.3509 - accuracy: 0.8777 - val_loss: 0.8812 - val_accuracy: 0.7380\n",
            "Epoch 21/50\n",
            "391/391 [==============================] - 5s 13ms/step - loss: 0.3431 - accuracy: 0.8794 - val_loss: 0.9140 - val_accuracy: 0.7384\n",
            "Epoch 22/50\n",
            "391/391 [==============================] - 5s 12ms/step - loss: 0.3332 - accuracy: 0.8830 - val_loss: 0.9486 - val_accuracy: 0.7340\n",
            "Epoch 23/50\n",
            "391/391 [==============================] - 5s 12ms/step - loss: 0.3230 - accuracy: 0.8866 - val_loss: 0.9273 - val_accuracy: 0.7414\n",
            "Epoch 24/50\n",
            "391/391 [==============================] - 5s 13ms/step - loss: 0.3057 - accuracy: 0.8929 - val_loss: 0.9206 - val_accuracy: 0.7372\n",
            "Epoch 25/50\n",
            "391/391 [==============================] - 5s 12ms/step - loss: 0.2935 - accuracy: 0.8982 - val_loss: 0.9588 - val_accuracy: 0.7380\n",
            "Epoch 26/50\n",
            "391/391 [==============================] - 5s 12ms/step - loss: 0.2850 - accuracy: 0.9011 - val_loss: 0.9539 - val_accuracy: 0.7442\n",
            "Epoch 27/50\n",
            "391/391 [==============================] - 5s 12ms/step - loss: 0.2810 - accuracy: 0.9019 - val_loss: 0.9578 - val_accuracy: 0.7408\n",
            "Epoch 28/50\n",
            "391/391 [==============================] - 5s 12ms/step - loss: 0.2775 - accuracy: 0.9047 - val_loss: 0.9545 - val_accuracy: 0.7398\n",
            "Epoch 29/50\n",
            "391/391 [==============================] - 5s 13ms/step - loss: 0.2682 - accuracy: 0.9084 - val_loss: 0.9546 - val_accuracy: 0.7396\n",
            "Epoch 30/50\n",
            "391/391 [==============================] - 5s 12ms/step - loss: 0.2600 - accuracy: 0.9103 - val_loss: 0.9722 - val_accuracy: 0.7354\n",
            "Epoch 31/50\n",
            "391/391 [==============================] - 5s 13ms/step - loss: 0.2489 - accuracy: 0.9142 - val_loss: 0.9875 - val_accuracy: 0.7404\n",
            "Epoch 32/50\n",
            "391/391 [==============================] - 5s 13ms/step - loss: 0.2421 - accuracy: 0.9167 - val_loss: 1.0360 - val_accuracy: 0.7390\n",
            "Epoch 33/50\n",
            "391/391 [==============================] - 5s 12ms/step - loss: 0.2446 - accuracy: 0.9149 - val_loss: 1.0553 - val_accuracy: 0.7466\n",
            "Epoch 34/50\n",
            "391/391 [==============================] - 5s 12ms/step - loss: 0.2345 - accuracy: 0.9187 - val_loss: 1.0234 - val_accuracy: 0.7452\n",
            "Epoch 35/50\n",
            "391/391 [==============================] - 5s 12ms/step - loss: 0.2341 - accuracy: 0.9203 - val_loss: 1.0098 - val_accuracy: 0.7528\n",
            "Epoch 36/50\n",
            "391/391 [==============================] - 5s 12ms/step - loss: 0.2265 - accuracy: 0.9226 - val_loss: 1.0387 - val_accuracy: 0.7394\n",
            "Epoch 37/50\n",
            "391/391 [==============================] - 5s 13ms/step - loss: 0.2250 - accuracy: 0.9247 - val_loss: 1.0532 - val_accuracy: 0.7348\n",
            "Epoch 38/50\n",
            "391/391 [==============================] - 5s 12ms/step - loss: 0.2243 - accuracy: 0.9224 - val_loss: 1.0518 - val_accuracy: 0.7426\n",
            "Epoch 39/50\n",
            "391/391 [==============================] - 5s 12ms/step - loss: 0.2079 - accuracy: 0.9294 - val_loss: 1.0084 - val_accuracy: 0.7462\n",
            "Epoch 40/50\n",
            "391/391 [==============================] - 5s 13ms/step - loss: 0.2094 - accuracy: 0.9285 - val_loss: 1.0452 - val_accuracy: 0.7408\n",
            "Epoch 41/50\n",
            "391/391 [==============================] - 5s 12ms/step - loss: 0.1987 - accuracy: 0.9336 - val_loss: 1.0599 - val_accuracy: 0.7362\n",
            "Epoch 42/50\n",
            "391/391 [==============================] - 5s 12ms/step - loss: 0.2045 - accuracy: 0.9308 - val_loss: 1.0540 - val_accuracy: 0.7336\n",
            "Epoch 43/50\n",
            "391/391 [==============================] - 5s 13ms/step - loss: 0.2012 - accuracy: 0.9316 - val_loss: 1.0884 - val_accuracy: 0.7374\n",
            "Epoch 44/50\n",
            "391/391 [==============================] - 5s 12ms/step - loss: 0.1940 - accuracy: 0.9343 - val_loss: 1.0735 - val_accuracy: 0.7398\n",
            "Epoch 45/50\n",
            "391/391 [==============================] - 5s 13ms/step - loss: 0.1995 - accuracy: 0.9319 - val_loss: 1.0563 - val_accuracy: 0.7424\n",
            "Epoch 46/50\n",
            "391/391 [==============================] - 5s 12ms/step - loss: 0.1910 - accuracy: 0.9363 - val_loss: 1.0699 - val_accuracy: 0.7414\n",
            "Epoch 47/50\n",
            "391/391 [==============================] - 5s 12ms/step - loss: 0.1940 - accuracy: 0.9345 - val_loss: 1.0483 - val_accuracy: 0.7418\n",
            "Epoch 48/50\n",
            "391/391 [==============================] - 5s 13ms/step - loss: 0.1899 - accuracy: 0.9365 - val_loss: 1.1264 - val_accuracy: 0.7456\n",
            "Epoch 49/50\n",
            "391/391 [==============================] - 5s 12ms/step - loss: 0.1857 - accuracy: 0.9374 - val_loss: 1.1076 - val_accuracy: 0.7374\n",
            "Epoch 50/50\n",
            "391/391 [==============================] - 5s 12ms/step - loss: 0.1828 - accuracy: 0.9385 - val_loss: 1.0646 - val_accuracy: 0.7476\n"
          ]
        }
      ],
      "source": [
        "\n",
        "history = model.fit(x=train_images, y=train_labels,\n",
        "                    validation_data=(valid_images, valid_labels),\n",
        "                    epochs=epoch_count,\n",
        "                    batch_size=batch_size)"
      ]
    },
    {
      "cell_type": "code",
      "execution_count": 8,
      "metadata": {
        "ExecuteTime": {
          "end_time": "2019-05-01T08:56:28.958057Z",
          "start_time": "2019-05-01T08:56:28.713031Z"
        },
        "colab": {
          "base_uri": "https://localhost:8080/",
          "height": 927
        },
        "collapsed": true,
        "id": "6GTGeChttNoi",
        "outputId": "29fbd528-01a6-4d71-f62c-adebbbb30547"
      },
      "outputs": [
        {
          "output_type": "display_data",
          "data": {
            "text/plain": [
              "<Figure size 640x480 with 1 Axes>"
            ],
            "image/png": "[encoded data removed]"
          },
          "metadata": {}
        },
        {
          "output_type": "display_data",
          "data": {
            "text/plain": [
              "<Figure size 640x480 with 1 Axes>"
            ],
            "image/png": "[encoded data removed]"
          },
          "metadata": {}
        }
      ],
      "source": [
        "from matplotlib import pyplot as plt\n",
        "\n",
        "def display_history(history):\n",
        "    \"\"\"Summarize history for accuracy and loss.\n",
        "    \"\"\"\n",
        "    plt.plot(history.history['accuracy'])\n",
        "    plt.plot(history.history['val_accuracy'])\n",
        "    plt.title('Model accuracy')\n",
        "    plt.ylabel('accuracy')\n",
        "    plt.xlabel('epoch')\n",
        "    plt.legend(['train', 'valid'], loc='upper left')\n",
        "    plt.show()\n",
        "    plt.plot(history.history['loss'])\n",
        "    plt.plot(history.history['val_loss'])\n",
        "    plt.title('Model loss')\n",
        "    plt.ylabel('loss')\n",
        "    plt.xlabel('epoch')\n",
        "    plt.legend(['train', 'valid'], loc='upper left')\n",
        "    plt.show()\n",
        "\n",
        "display_history(history);"
      ]
    },
    {
      "cell_type": "code",
      "execution_count": 9,
      "metadata": {
        "ExecuteTime": {
          "end_time": "2019-05-01T08:52:07.228831Z",
          "start_time": "2019-05-01T08:52:07.222761Z"
        },
        "collapsed": true,
        "id": "0nilSwmmALU2"
      },
      "outputs": [],
      "source": [
        "assert max(history.history['val_accuracy']) > 0.75"
      ]
    },
    {
      "cell_type": "markdown",
      "metadata": {
        "id": "O7nD81aQtNo3"
      },
      "source": [
        "## Saving the model"
      ]
    },
    {
      "cell_type": "code",
      "execution_count": 10,
      "metadata": {
        "ExecuteTime": {
          "end_time": "2019-05-01T08:52:10.803767Z",
          "start_time": "2019-05-01T08:52:10.663477Z"
        },
        "colab": {
          "base_uri": "https://localhost:8080/"
        },
        "collapsed": true,
        "id": "XcFR3MkStNo5",
        "outputId": "8a3a702e-ed24-469f-86ef-57413203b189"
      },
      "outputs": [
        {
          "output_type": "stream",
          "name": "stderr",
          "text": [
            "/usr/local/lib/python3.10/dist-packages/keras/src/engine/training.py:3103: UserWarning: You are saving your model as an HDF5 file via `model.save()`. This file format is considered legacy. We recommend using instead the native Keras format, e.g. `model.save('my_model.keras')`.\n",
            "  saving_api.save_model(\n"
          ]
        }
      ],
      "source": [
        "model.save('my_model.h5')  # creates a HDF5 file 'my_model.h5'"
      ]
    }
  ],
  "metadata": {
    "accelerator": "GPU",
    "colab": {
      "provenance": [],
      "gpuType": "T4",
      "include_colab_link": true
    },
    "kernelspec": {
      "display_name": "Python 3",
      "name": "python3"
    },
    "language_info": {
      "codemirror_mode": {
        "name": "ipython",
        "version": 3
      },
      "file_extension": ".py",
      "mimetype": "text/x-python",
      "name": "python",
      "nbconvert_exporter": "python",
      "pygments_lexer": "ipython3",
      "version": "3.7.9"
    },
    "toc": {
      "base_numbering": 1,
      "nav_menu": {},
      "number_sections": true,
      "sideBar": true,
      "skip_h1_title": false,
      "title_cell": "Table of Contents",
      "title_sidebar": "Contents",
      "toc_cell": false,
      "toc_position": {},
      "toc_section_display": true,
      "toc_window_display": false
    },
    "varInspector": {
      "cols": {
        "lenName": 16,
        "lenType": 16,
        "lenVar": 40
      },
      "kernels_config": {
        "python": {
          "delete_cmd_postfix": "",
          "delete_cmd_prefix": "del ",
          "library": "var_list.py",
          "varRefreshCmd": "print(var_dic_list())"
        },
        "r": {
          "delete_cmd_postfix": ") ",
          "delete_cmd_prefix": "rm(",
          "library": "var_list.r",
          "varRefreshCmd": "cat(var_dic_list()) "
        }
      },
      "types_to_exclude": [
        "module",
        "function",
        "builtin_function_or_method",
        "instance",
        "_Feature"
      ],
      "window_display": false
    }
  },
  "nbformat": 4,
  "nbformat_minor": 0
}